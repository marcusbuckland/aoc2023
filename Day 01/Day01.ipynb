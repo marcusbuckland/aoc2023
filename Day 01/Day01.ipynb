{
 "cells": [
  {
   "cell_type": "markdown",
   "metadata": {},
   "source": [
    "## Advent of Code 2023 - Day 01 ##\n",
    "____"
   ]
  },
  {
   "cell_type": "code",
   "execution_count": 1,
   "metadata": {},
   "outputs": [],
   "source": [
    "# Example 1\n",
    "fh = open(\"example.txt\", 'r')\n",
    "contents = fh.read().splitlines()"
   ]
  },
  {
   "cell_type": "code",
   "execution_count": 2,
   "metadata": {},
   "outputs": [
    {
     "name": "stdout",
     "output_type": "stream",
     "text": [
      "['12', '38', '15', '77']\n"
     ]
    }
   ],
   "source": [
    "nums = []\n",
    "for l in contents:\n",
    "    for c in l:\n",
    "        # find first\n",
    "        if c.isnumeric():\n",
    "            first = c\n",
    "            break\n",
    "    for c in l[::-1]:\n",
    "        # find last\n",
    "        if c.isnumeric():\n",
    "            last = c\n",
    "            break\n",
    "    nums.append(first+last)\n",
    "\n",
    "print(nums)"
   ]
  },
  {
   "cell_type": "code",
   "execution_count": 3,
   "metadata": {},
   "outputs": [
    {
     "data": {
      "text/plain": [
       "142"
      ]
     },
     "execution_count": 3,
     "metadata": {},
     "output_type": "execute_result"
    }
   ],
   "source": [
    "sum([int(x) for x in nums])"
   ]
  },
  {
   "cell_type": "code",
   "execution_count": 4,
   "metadata": {},
   "outputs": [
    {
     "data": {
      "text/plain": [
       "55017"
      ]
     },
     "execution_count": 4,
     "metadata": {},
     "output_type": "execute_result"
    }
   ],
   "source": [
    "## Part One ##\n",
    "def part1():\n",
    "    fh = open(\"input.txt\", 'r')\n",
    "    contents = fh.read().splitlines()\n",
    "\n",
    "    nums = []\n",
    "    for l in contents:\n",
    "        for c in l:\n",
    "            # find first\n",
    "            if c.isnumeric():\n",
    "                first = c\n",
    "                break\n",
    "        for c in l[::-1]:\n",
    "            # find last\n",
    "            if c.isnumeric():\n",
    "                last = c\n",
    "                break\n",
    "        nums.append(first+last)\n",
    "\n",
    "    return sum([int(x) for x in nums])\n",
    "\n",
    "part1() # 55017"
   ]
  },
  {
   "cell_type": "code",
   "execution_count": 5,
   "metadata": {},
   "outputs": [],
   "source": [
    "# Example 2\n",
    "fh = open(\"example2.txt\", 'r')\n",
    "contents = fh.read().splitlines()"
   ]
  },
  {
   "cell_type": "code",
   "execution_count": 6,
   "metadata": {},
   "outputs": [
    {
     "data": {
      "text/plain": [
       "{'one': 'one1one',\n",
       " 'two': 'two2two',\n",
       " 'three': 'three3three',\n",
       " 'four': 'four4four',\n",
       " 'five': 'five5five',\n",
       " 'six': 'six6six',\n",
       " 'seven': 'seven7seven',\n",
       " 'eight': 'eight8eight',\n",
       " 'nine': 'nine9nine'}"
      ]
     },
     "execution_count": 6,
     "metadata": {},
     "output_type": "execute_result"
    }
   ],
   "source": [
    "str_nums = [\"one\", \"two\", \"three\", \"four\", \"five\", \"six\", \"seven\", \"eight\", \"nine\"]\n",
    "\n",
    "d = {k:k+str(v)+k for k,v in zip(str_nums, range(1,11))}\n",
    "d"
   ]
  },
  {
   "cell_type": "code",
   "execution_count": 7,
   "metadata": {},
   "outputs": [],
   "source": [
    "def substitute(s, d):\n",
    "    \"\"\"Multiple string replacements of string s \n",
    "    with the values in dictionary d\"\"\"\n",
    "    for k, v in d.items():\n",
    "        s = s.replace(k, v)\n",
    "    return s"
   ]
  },
  {
   "cell_type": "code",
   "execution_count": 8,
   "metadata": {},
   "outputs": [
    {
     "data": {
      "text/plain": [
       "53539"
      ]
     },
     "execution_count": 8,
     "metadata": {},
     "output_type": "execute_result"
    }
   ],
   "source": [
    "def part2():\n",
    "    fh = open(\"input.txt\", 'r')\n",
    "    contents = fh.read().splitlines()\n",
    "\n",
    "    nums = []\n",
    "    for l in contents:\n",
    "        l = substitute(l, d)\n",
    "        for c in l:\n",
    "            # find first\n",
    "            if c.isnumeric():\n",
    "                first = c\n",
    "                break\n",
    "        for c in l[::-1]:\n",
    "            # find last\n",
    "            if c.isnumeric():\n",
    "                last = c\n",
    "                break\n",
    "        nums.append(first+last)\n",
    "\n",
    "    return sum([int(x) for x in nums])\n",
    "\n",
    "part2() # 53539"
   ]
  }
 ],
 "metadata": {
  "kernelspec": {
   "display_name": "marcus",
   "language": "python",
   "name": "python3"
  },
  "language_info": {
   "codemirror_mode": {
    "name": "ipython",
    "version": 3
   },
   "file_extension": ".py",
   "mimetype": "text/x-python",
   "name": "python",
   "nbconvert_exporter": "python",
   "pygments_lexer": "ipython3",
   "version": "3.11.5"
  }
 },
 "nbformat": 4,
 "nbformat_minor": 2
}

{
 "cells": [
  {
   "cell_type": "markdown",
   "metadata": {},
   "source": [
    "## Advent of Code 2023 - Day 06 ##\n",
    "____"
   ]
  },
  {
   "cell_type": "code",
   "execution_count": 1,
   "metadata": {},
   "outputs": [],
   "source": [
    "import math\n",
    "fh = open(\"input.txt\")\n",
    "contents = fh.read().splitlines()"
   ]
  },
  {
   "cell_type": "code",
   "execution_count": 2,
   "metadata": {},
   "outputs": [],
   "source": [
    "race_times = [int(x) for x in contents[0].split()[1:]]\n",
    "race_dist = [int(x) for x in contents[1].split()[1:]]"
   ]
  },
  {
   "cell_type": "code",
   "execution_count": 3,
   "metadata": {},
   "outputs": [],
   "source": [
    "def race(hold_time, race_time):\n",
    "    \"\"\"returns distance the boat went\"\"\"\n",
    "    return hold_time * (race_time-hold_time)"
   ]
  },
  {
   "cell_type": "code",
   "execution_count": 4,
   "metadata": {},
   "outputs": [
    {
     "name": "stdout",
     "output_type": "stream",
     "text": [
      "Part One: 160816\n"
     ]
    }
   ],
   "source": [
    "l = [0 for _ in range(len(race_times))]\n",
    "\n",
    "for i, t in enumerate(race_times):\n",
    "    for j in range(1, t):\n",
    "        dist = race(j, race_times[i])\n",
    "        if dist > race_dist[i]:\n",
    "            l[i] += 1\n",
    "\n",
    "print(f\"Part One: {math.prod(l)}\")"
   ]
  }
 ],
 "metadata": {
  "kernelspec": {
   "display_name": "base",
   "language": "python",
   "name": "python3"
  },
  "language_info": {
   "codemirror_mode": {
    "name": "ipython",
    "version": 3
   },
   "file_extension": ".py",
   "mimetype": "text/x-python",
   "name": "python",
   "nbconvert_exporter": "python",
   "pygments_lexer": "ipython3",
   "version": "3.11.5"
  }
 },
 "nbformat": 4,
 "nbformat_minor": 2
}

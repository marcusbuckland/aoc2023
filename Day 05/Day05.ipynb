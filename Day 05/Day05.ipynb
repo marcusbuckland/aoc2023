{
 "cells": [
  {
   "cell_type": "markdown",
   "metadata": {},
   "source": [
    "## Advent of Code 2023 - Day 05 ##\n",
    "____"
   ]
  },
  {
   "cell_type": "code",
   "execution_count": 1,
   "metadata": {},
   "outputs": [],
   "source": [
    "fh = open(\"input.txt\")\n",
    "contents = fh.read().splitlines()\n",
    "contents = [x for x in contents if x != \"\"]"
   ]
  },
  {
   "cell_type": "code",
   "execution_count": 2,
   "metadata": {},
   "outputs": [],
   "source": [
    "seeds = [int(x) for x in contents[0].split(\":\")[1].strip().split()]\n",
    "maps = [{} for _ in range(7)]\n",
    "\n",
    "maps_ix = -1\n",
    "for l in contents[1:]:\n",
    "    if l[0].isalpha() : maps_ix += 1\n",
    "    else:\n",
    "        dst, src, r = [int(x) for x in l.split()]\n",
    "        maps[maps_ix][(src, src+r-1)] = (dst, dst+r-1)"
   ]
  },
  {
   "cell_type": "code",
   "execution_count": 3,
   "metadata": {},
   "outputs": [],
   "source": [
    "def convert(num, d):\n",
    "    for k in d:\n",
    "        low, high = k\n",
    "        if low <= num <= high:\n",
    "            diff = num - low\n",
    "            return d[k][0] + diff\n",
    "    return num"
   ]
  },
  {
   "cell_type": "code",
   "execution_count": 4,
   "metadata": {},
   "outputs": [
    {
     "name": "stdout",
     "output_type": "stream",
     "text": [
      "Part One: 251346198\n"
     ]
    }
   ],
   "source": [
    "locs = []\n",
    "for seed in seeds:\n",
    "    num = convert(seed, maps[0])\n",
    "    for m in maps[1:]:\n",
    "        num = convert(num, m)\n",
    "    locs.append(num)\n",
    "\n",
    "print(f\"Part One: {min(locs)}\")"
   ]
  },
  {
   "cell_type": "code",
   "execution_count": 5,
   "metadata": {},
   "outputs": [],
   "source": [
    "# Part Two\n",
    "initial_seeds = [(x, x+y-1) for x, y  in zip(seeds[::2], seeds[1::2])]\n",
    "loc_to_seed = []\n",
    "for m in maps[::-1]:\n",
    "    loc_to_seed.append({v:k for k,v in m.items()})\n"
   ]
  },
  {
   "cell_type": "code",
   "execution_count": 6,
   "metadata": {},
   "outputs": [],
   "source": [
    "def is_initial_seed(n):\n",
    "    for r in initial_seeds:\n",
    "        low, high = r\n",
    "        if low <= n <= high :\n",
    "            return True\n",
    "    return False"
   ]
  },
  {
   "cell_type": "code",
   "execution_count": 7,
   "metadata": {},
   "outputs": [
    {
     "name": "stdout",
     "output_type": "stream",
     "text": [
      "Part Two: 72263011\n"
     ]
    }
   ],
   "source": [
    "num = 0\n",
    "inc = 1e3\n",
    "\n",
    "while True:\n",
    "    x = num\n",
    "    for m in loc_to_seed:\n",
    "        x = convert(x, m)\n",
    "    if is_initial_seed(x) : break\n",
    "    num += inc\n",
    "\n",
    "num -= inc\n",
    "\n",
    "while True:\n",
    "    x = num\n",
    "    for m in loc_to_seed:\n",
    "        x = convert(x, m)\n",
    "    if is_initial_seed(x) : break\n",
    "    num += 1\n",
    "\n",
    "print(f\"Part Two: {num:.0f}\")"
   ]
  }
 ],
 "metadata": {
  "kernelspec": {
   "display_name": "base",
   "language": "python",
   "name": "python3"
  },
  "language_info": {
   "codemirror_mode": {
    "name": "ipython",
    "version": 3
   },
   "file_extension": ".py",
   "mimetype": "text/x-python",
   "name": "python",
   "nbconvert_exporter": "python",
   "pygments_lexer": "ipython3",
   "version": "3.11.5"
  }
 },
 "nbformat": 4,
 "nbformat_minor": 2
}

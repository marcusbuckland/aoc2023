{
 "cells": [
  {
   "cell_type": "markdown",
   "metadata": {},
   "source": [
    "## Advent of Code 2023 - Day 04 ##\n",
    "____"
   ]
  },
  {
   "cell_type": "code",
   "execution_count": 1,
   "metadata": {},
   "outputs": [],
   "source": [
    "import re\n",
    "fh = open(\"input.txt\")\n",
    "contents = fh.read().splitlines()"
   ]
  },
  {
   "cell_type": "code",
   "execution_count": 2,
   "metadata": {},
   "outputs": [
    {
     "name": "stdout",
     "output_type": "stream",
     "text": [
      "Part One: 20117\n"
     ]
    }
   ],
   "source": [
    "# Part 1\n",
    "\n",
    "def get_score(n):\n",
    "    return 2**(n-1)\n",
    "\n",
    "score = 0\n",
    "for line in contents:\n",
    "    _, numbers = line.split(\":\")\n",
    "    left, right = numbers.split(\"|\")\n",
    "    winning_numbers = {int(n) for n in left.split()}\n",
    "    held_numbers = {int(n) for n in right.split()}\n",
    "    matches = winning_numbers.intersection(held_numbers)\n",
    "    if len(matches) > 0:\n",
    "        score += get_score(len(matches))\n",
    "\n",
    "print(f\"Part One: {score}\") # 20117\n",
    "    "
   ]
  },
  {
   "cell_type": "code",
   "execution_count": 3,
   "metadata": {},
   "outputs": [
    {
     "name": "stdout",
     "output_type": "stream",
     "text": [
      "Part Two: 13768818\n"
     ]
    }
   ],
   "source": [
    "# Part 2\n",
    "\n",
    "d = {}\n",
    "\n",
    "for line in contents:\n",
    "    card_num, numbers = line.split(\":\")\n",
    "    card_num = int(re.findall(r\"\\d+\", card_num)[0])\n",
    "    d[card_num] = d.get(card_num, 0) + 1\n",
    "    left, right = numbers.split(\"|\")\n",
    "    winning_numbers = {int(n) for n in left.split()}\n",
    "    held_numbers = {int(n) for n in right.split()}\n",
    "    matches = winning_numbers.intersection(held_numbers)\n",
    "    if len(matches) > 0:\n",
    "        for i in range(1, len(matches)+1):\n",
    "            d[card_num+i] = d.get(card_num+i, 0) + d[card_num]\n",
    "\n",
    "\n",
    "print(f\"Part Two: {sum(d.values())}\") # 13768818"
   ]
  }
 ],
 "metadata": {
  "kernelspec": {
   "display_name": "base",
   "language": "python",
   "name": "python3"
  },
  "language_info": {
   "codemirror_mode": {
    "name": "ipython",
    "version": 3
   },
   "file_extension": ".py",
   "mimetype": "text/x-python",
   "name": "python",
   "nbconvert_exporter": "python",
   "pygments_lexer": "ipython3",
   "version": "3.11.5"
  }
 },
 "nbformat": 4,
 "nbformat_minor": 2
}

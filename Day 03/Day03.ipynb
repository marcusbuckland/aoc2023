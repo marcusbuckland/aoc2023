{
 "cells": [
  {
   "cell_type": "markdown",
   "metadata": {},
   "source": [
    "## Advent of Code 2023 - Day 03 ##\n",
    "____"
   ]
  },
  {
   "cell_type": "code",
   "execution_count": 1,
   "metadata": {},
   "outputs": [],
   "source": [
    "import re\n",
    "fh = open(\"input.txt\")\n",
    "contents = fh.read().splitlines()\n",
    "\n",
    "MIN_ROW = 0\n",
    "MIN_COL = 0\n",
    "MAX_ROW = len(contents) - 1 \n",
    "MAX_COL = len(contents[0]) - 1"
   ]
  },
  {
   "cell_type": "code",
   "execution_count": 2,
   "metadata": {},
   "outputs": [],
   "source": [
    "def get_numbers(row):\n",
    "    return [(x.group(), x.span()) for x in list(re.finditer(r\"\\d+\", row))]\n",
    "\n",
    "def get_surrounding(r, span):\n",
    "    surrounding = \"\"\n",
    "    surrounding += get_left(r, span)\n",
    "    surrounding += get_right(r, span)\n",
    "    surrounding += get_above(r, span)\n",
    "    surrounding += get_below(r, span)\n",
    "    return surrounding\n",
    "\n",
    "def get_left(r, span):\n",
    "    # c-1\n",
    "    c = span[0]\n",
    "    s = \"\"\n",
    "    if c == MIN_COL : return s\n",
    "    if r != MIN_ROW : s += contents[r-1][c-1]\n",
    "    s += contents[r][c-1]\n",
    "    if r != MAX_ROW : s += contents[r+1][c-1]\n",
    "    return s\n",
    "\n",
    "def get_right(r, span):\n",
    "    # c+1\n",
    "    c = span[1] - 1\n",
    "    s = \"\"\n",
    "    if c == MAX_COL : return s\n",
    "    if r != MIN_ROW : s += contents[r-1][c+1]\n",
    "    s += contents[r][c+1]\n",
    "    if r != MAX_ROW : s += contents[r+1][c+1]\n",
    "    return s\n",
    "\n",
    "def get_above(r, span):\n",
    "    s = \"\"\n",
    "    if r == MIN_ROW : return s\n",
    "    for i in range(span[0], span[1]):\n",
    "        s += contents[r-1][i]\n",
    "    return s\n",
    "\n",
    "def get_below(r, span):\n",
    "    s = \"\"\n",
    "    if r == MAX_ROW : return s\n",
    "    for i in range(span[0], span[1]):\n",
    "        s += contents[r+1][i]\n",
    "    return s\n",
    "\n",
    "def is_part_number(r, span):\n",
    "    surrounding = get_surrounding(r, span)\n",
    "    return not set(surrounding) == set(\".\")"
   ]
  },
  {
   "cell_type": "code",
   "execution_count": 3,
   "metadata": {},
   "outputs": [
    {
     "name": "stdout",
     "output_type": "stream",
     "text": [
      "Part One: 556057\n"
     ]
    }
   ],
   "source": [
    "part_numbers = []\n",
    "for r, line in enumerate(contents):\n",
    "    numbers = get_numbers(line)\n",
    "    for num, span in numbers:\n",
    "        if is_part_number(r, span):\n",
    "            part_numbers.append(int(num))\n",
    "\n",
    "print(f\"Part One: {sum(part_numbers)}\")"
   ]
  },
  {
   "cell_type": "code",
   "execution_count": null,
   "metadata": {},
   "outputs": [],
   "source": []
  }
 ],
 "metadata": {
  "kernelspec": {
   "display_name": "marcus",
   "language": "python",
   "name": "python3"
  },
  "language_info": {
   "codemirror_mode": {
    "name": "ipython",
    "version": 3
   },
   "file_extension": ".py",
   "mimetype": "text/x-python",
   "name": "python",
   "nbconvert_exporter": "python",
   "pygments_lexer": "ipython3",
   "version": "3.11.5"
  }
 },
 "nbformat": 4,
 "nbformat_minor": 2
}

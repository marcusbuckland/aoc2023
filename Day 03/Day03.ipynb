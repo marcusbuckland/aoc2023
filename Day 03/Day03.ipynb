{
 "cells": [
  {
   "cell_type": "markdown",
   "metadata": {},
   "source": [
    "## Advent of Code 2023 - Day 03 ##\n",
    "____"
   ]
  },
  {
   "cell_type": "code",
   "execution_count": 1,
   "metadata": {},
   "outputs": [],
   "source": [
    "import re\n",
    "import math\n",
    "\n",
    "fh = open(\"input.txt\")\n",
    "contents = fh.read().splitlines()\n",
    "\n",
    "MIN_ROW = 0\n",
    "MIN_COL = 0\n",
    "MAX_ROW = len(contents) - 1 \n",
    "MAX_COL = len(contents[0]) - 1"
   ]
  },
  {
   "cell_type": "code",
   "execution_count": 2,
   "metadata": {},
   "outputs": [],
   "source": [
    "def get_numbers(line):\n",
    "    return [(x.group(), x.span()) for x in list(re.finditer(r\"\\d+\", line))]\n",
    "\n",
    "def get_surrounding(r, span):\n",
    "    surrounding = \"\"\n",
    "    surrounding += get_left(r, span)\n",
    "    surrounding += get_right(r, span)\n",
    "    surrounding += get_above(r, span)\n",
    "    surrounding += get_below(r, span)\n",
    "    return surrounding\n",
    "\n",
    "def get_left(r, span):\n",
    "    # c-1\n",
    "    c = span[0]\n",
    "    s = \"\"\n",
    "    if c == MIN_COL : return s\n",
    "    if r != MIN_ROW : s += contents[r-1][c-1]\n",
    "    s += contents[r][c-1]\n",
    "    if r != MAX_ROW : s += contents[r+1][c-1]\n",
    "    return s\n",
    "\n",
    "def get_right(r, span):\n",
    "    # c+1\n",
    "    c = span[1] - 1\n",
    "    s = \"\"\n",
    "    if c == MAX_COL : return s\n",
    "    if r != MIN_ROW : s += contents[r-1][c+1]\n",
    "    s += contents[r][c+1]\n",
    "    if r != MAX_ROW : s += contents[r+1][c+1]\n",
    "    return s\n",
    "\n",
    "def get_above(r, span):\n",
    "    s = \"\"\n",
    "    if r == MIN_ROW : return s\n",
    "    for i in range(span[0], span[1]):\n",
    "        s += contents[r-1][i]\n",
    "    return s\n",
    "\n",
    "def get_below(r, span):\n",
    "    s = \"\"\n",
    "    if r == MAX_ROW : return s\n",
    "    for i in range(span[0], span[1]):\n",
    "        s += contents[r+1][i]\n",
    "    return s\n",
    "\n",
    "def is_part_number(r, span):\n",
    "    surrounding = get_surrounding(r, span)\n",
    "    return not set(surrounding) == set(\".\")"
   ]
  },
  {
   "cell_type": "code",
   "execution_count": 3,
   "metadata": {},
   "outputs": [
    {
     "name": "stdout",
     "output_type": "stream",
     "text": [
      "Part One: 556057\n"
     ]
    }
   ],
   "source": [
    "part_numbers = []\n",
    "for r, line in enumerate(contents):\n",
    "    numbers = get_numbers(line)\n",
    "    for num, span in numbers:\n",
    "        if is_part_number(r, span):\n",
    "            part_numbers.append(int(num))\n",
    "\n",
    "print(f\"Part One: {sum(part_numbers)}\")"
   ]
  },
  {
   "cell_type": "code",
   "execution_count": 4,
   "metadata": {},
   "outputs": [],
   "source": [
    "# Part 2\n",
    "# Helper Functions for part 2\n",
    "\n",
    "def get_stars_column(line):\n",
    "    return [x.span()[0] for x in list(re.finditer(r\"\\*\", line))]\n",
    "\n",
    "def get_possible_gears():\n",
    "    possible_gears = []\n",
    "    for row, line in enumerate(contents):\n",
    "        cols = get_stars_column(line)\n",
    "        for c in cols:\n",
    "            possible_gears.append((row, c))\n",
    "\n",
    "    return possible_gears\n",
    "\n",
    "def get_surrounding_coords(r, c):\n",
    "    return {(r+i, c+j) for i in range(-1, 2) for j in range(-1, 2) if not i == j == 0}\n",
    "\n",
    "def is_adjacent(gear_surrounding_coords, num_surrounding_coords):\n",
    "    return len(gear_surrounding_coords.intersection(num_surrounding_coords)) > 0"
   ]
  },
  {
   "cell_type": "code",
   "execution_count": 5,
   "metadata": {},
   "outputs": [
    {
     "name": "stdout",
     "output_type": "stream",
     "text": [
      "Part Two: 82824352\n"
     ]
    }
   ],
   "source": [
    "possible_gears = get_possible_gears()\n",
    "res = 0\n",
    "\n",
    "for pg in possible_gears:\n",
    "    r, c = pg # coordinates of '*'\n",
    "    gear_surrounding_coords = get_surrounding_coords(r, c)\n",
    "    rows = {x[0] for x in gear_surrounding_coords} # Above, Same, and Below row of possible gear.\n",
    "    adjacent = []\n",
    "    for r in rows:\n",
    "        numbers = get_numbers(contents[r])\n",
    "        for num, span in numbers:\n",
    "            num_coords = {(r, c) for c in range(span[0], span[1])}\n",
    "            if is_adjacent(gear_surrounding_coords, num_coords):\n",
    "                adjacent.append(int(num))\n",
    "    # Check that possible gear is in fact gear\n",
    "    if len(adjacent) == 2:\n",
    "        res += math.prod(adjacent)\n",
    "\n",
    "print(f\"Part Two: {res}\")"
   ]
  },
  {
   "cell_type": "code",
   "execution_count": null,
   "metadata": {},
   "outputs": [],
   "source": []
  }
 ],
 "metadata": {
  "kernelspec": {
   "display_name": "marcus",
   "language": "python",
   "name": "python3"
  },
  "language_info": {
   "codemirror_mode": {
    "name": "ipython",
    "version": 3
   },
   "file_extension": ".py",
   "mimetype": "text/x-python",
   "name": "python",
   "nbconvert_exporter": "python",
   "pygments_lexer": "ipython3",
   "version": "3.11.5"
  }
 },
 "nbformat": 4,
 "nbformat_minor": 2
}

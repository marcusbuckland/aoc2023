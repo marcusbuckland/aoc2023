{
 "cells": [
  {
   "cell_type": "markdown",
   "metadata": {},
   "source": [
    "## Advent of Code 2023 - Day 09 ##\n",
    "____"
   ]
  },
  {
   "cell_type": "code",
   "execution_count": 1,
   "metadata": {},
   "outputs": [],
   "source": [
    "contents = open('in.txt').read().splitlines()\n",
    "nums = [[int(n) for n in x.split()] for x in contents]"
   ]
  },
  {
   "cell_type": "code",
   "execution_count": 2,
   "metadata": {},
   "outputs": [],
   "source": [
    "# Helper functions\n",
    "def all_identical(l):\n",
    "    \"\"\"Returns True if all elements in l are identical\"\"\"\n",
    "    return all(x==l[0] for x in l)\n",
    "\n",
    "def get_next_seq(seq):\n",
    "    next_seq = []\n",
    "    for i, num in enumerate(seq, start=1):\n",
    "        try:\n",
    "            next_seq.append(seq[i]-num)\n",
    "        except:\n",
    "            break\n",
    "    return next_seq\n",
    "\n",
    "def get_next_num(seq, n=0):\n",
    "    # base case\n",
    "    if all_identical(seq) : return seq[-1]\n",
    "\n",
    "    # recursive case\n",
    "    next_seq = get_next_seq(seq)\n",
    "    return n + get_next_num(next_seq, next_seq[-1])"
   ]
  },
  {
   "cell_type": "code",
   "execution_count": 3,
   "metadata": {},
   "outputs": [
    {
     "name": "stdout",
     "output_type": "stream",
     "text": [
      "Part One: 1995001648\n"
     ]
    }
   ],
   "source": [
    "def part_one():\n",
    "    next_nums = []\n",
    "    for seq in nums:\n",
    "        n = get_next_num(seq)\n",
    "        next_nums.append(n+seq[-1])\n",
    "\n",
    "    ans = (sum(next_nums))\n",
    "    print(f\"Part One: {ans}\")\n",
    "\n",
    "part_one()"
   ]
  },
  {
   "cell_type": "code",
   "execution_count": 4,
   "metadata": {},
   "outputs": [
    {
     "name": "stdout",
     "output_type": "stream",
     "text": [
      "Part Two: 988\n"
     ]
    }
   ],
   "source": [
    "def part_two():\n",
    "    next_nums = []\n",
    "    for seq in nums:\n",
    "        seq = seq[::-1]\n",
    "        n = get_next_num(seq)\n",
    "        next_nums.append(n+seq[-1])\n",
    "\n",
    "    ans = (sum(next_nums))\n",
    "    print(f\"Part Two: {ans}\")\n",
    "\n",
    "part_two()"
   ]
  }
 ],
 "metadata": {
  "kernelspec": {
   "display_name": "marcus",
   "language": "python",
   "name": "python3"
  },
  "language_info": {
   "codemirror_mode": {
    "name": "ipython",
    "version": 3
   },
   "file_extension": ".py",
   "mimetype": "text/x-python",
   "name": "python",
   "nbconvert_exporter": "python",
   "pygments_lexer": "ipython3",
   "version": "3.11.5"
  }
 },
 "nbformat": 4,
 "nbformat_minor": 2
}

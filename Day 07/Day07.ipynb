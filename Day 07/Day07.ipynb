{
 "cells": [
  {
   "cell_type": "markdown",
   "metadata": {},
   "source": [
    "## Advent of Code 2023 - Day 07 ##\n",
    "____"
   ]
  },
  {
   "cell_type": "code",
   "execution_count": 1,
   "metadata": {},
   "outputs": [],
   "source": [
    "# Part One\n",
    "from collections import Counter\n",
    "import numpy as np\n",
    "\n",
    "contents = open(\"in.txt\").read().splitlines()\n",
    "\n",
    "hands = []\n",
    "bids = []\n",
    "\n",
    "for l in contents:\n",
    "    h, b = l.split()\n",
    "    hands.append(h)\n",
    "    bids.append(int(b))\n",
    "\n",
    "card_values = dict(zip(list('AKQJT98765432'), list(range(14,1,-1))))"
   ]
  },
  {
   "cell_type": "code",
   "execution_count": 2,
   "metadata": {},
   "outputs": [],
   "source": [
    "# Helper functions\n",
    "BASE = 15\n",
    "\n",
    "def get_hand_value(hand):\n",
    "    a = [BASE**x for x in range(4,-1,-1)]\n",
    "    b = [card_values[c] for c in hand]\n",
    "    return np.dot(a, b)\n",
    "\n",
    "def rank(hand):\n",
    "    hand_value = get_hand_value(hand)\n",
    "    s = set(hand)\n",
    "    c = Counter(hand).values()\n",
    "    # Five of a kind\n",
    "    if len(s) == 1:\n",
    "        return BASE**5*7 + hand_value\n",
    "    # Four of a kind\n",
    "    elif (len(s) == 2) and (4 in set(c)):\n",
    "        return BASE**5*6 + hand_value\n",
    "    # Full house\n",
    "    elif (len(s) == 2) and (3 in set(c)):\n",
    "        return BASE**5*5 + hand_value\n",
    "    # Three of a kind\n",
    "    elif (len(s) == 3 and (3 in set(c))):\n",
    "        return BASE**5*4 + hand_value\n",
    "    # Two pair\n",
    "    elif (len(s) == 3 and (2 in set(c))):\n",
    "        return BASE**5*3 + hand_value\n",
    "    # One pair\n",
    "    elif len(s) == 4:\n",
    "        return BASE**5*2 + hand_value\n",
    "    # High card\n",
    "    else:\n",
    "        return BASE**5 + hand_value"
   ]
  },
  {
   "cell_type": "code",
   "execution_count": 3,
   "metadata": {},
   "outputs": [
    {
     "name": "stdout",
     "output_type": "stream",
     "text": [
      "Part One: 251029473\n"
     ]
    }
   ],
   "source": [
    "def part_one():\n",
    "    sorted_hands = []\n",
    "    for i, hand in enumerate(hands):\n",
    "        sorted_hands.append((rank(hand), hand, bids[i]))\n",
    "\n",
    "    sorted_hands.sort()\n",
    "\n",
    "    winnings = 0\n",
    "    for i, hand in enumerate(sorted_hands, 1):\n",
    "        bid = hand[2]\n",
    "        winnings += (i) * bid\n",
    "\n",
    "    print(f\"Part One: {winnings}\")\n",
    "\n",
    "part_one() # 251029473"
   ]
  },
  {
   "cell_type": "code",
   "execution_count": 4,
   "metadata": {},
   "outputs": [],
   "source": [
    "# Part Two\n",
    "card_values['J'] = 1 # Joker is lowest value card now.\n",
    "\n",
    "def convert(hand):\n",
    "    \"\"\"converts hand treating 'J' as a joker to make best possible hand\"\"\"\n",
    "    if hand == 'JJJJJ' : return 'AAAAA'\n",
    "    c = Counter(hand.replace('J', \"\"))\n",
    "    return hand.replace('J', c.most_common(1).pop()[0])\n",
    "\n",
    "def rank(hand):\n",
    "    hand_value = get_hand_value(hand)\n",
    "    s = set(convert(hand))\n",
    "    c = Counter(convert(hand)).values()\n",
    "    # Five of a kind\n",
    "    if len(s) == 1:\n",
    "        return BASE**5*7 + hand_value\n",
    "    # Four of a kind\n",
    "    elif (len(s) == 2) and (4 in set(c)):\n",
    "        return BASE**5*6 + hand_value\n",
    "    # Full house\n",
    "    elif (len(s) == 2) and (3 in set(c)):\n",
    "        return BASE**5*5 + hand_value\n",
    "    # Three of a kind\n",
    "    elif (len(s) == 3 and (3 in set(c))):\n",
    "        return BASE**5*4 + hand_value\n",
    "    # Two pair\n",
    "    elif (len(s) == 3 and (2 in set(c))):\n",
    "        return BASE**5*3 + hand_value\n",
    "    # One pair\n",
    "    elif len(s) == 4:\n",
    "        return BASE**5*2 + hand_value\n",
    "    # High card\n",
    "    else:\n",
    "        return BASE**5 + hand_value"
   ]
  },
  {
   "cell_type": "code",
   "execution_count": 5,
   "metadata": {},
   "outputs": [
    {
     "name": "stdout",
     "output_type": "stream",
     "text": [
      "Part Two: 251003917\n"
     ]
    }
   ],
   "source": [
    "def part_two():\n",
    "    sorted_hands = []\n",
    "    for i, hand in enumerate(hands):\n",
    "        sorted_hands.append((rank(hand), hand, bids[i]))\n",
    "\n",
    "    sorted_hands.sort()\n",
    "\n",
    "    winnings = 0\n",
    "    for i, hand in enumerate(sorted_hands, 1):\n",
    "        bid = hand[2]\n",
    "        winnings += (i) * bid\n",
    "\n",
    "    print(f\"Part Two: {winnings}\")\n",
    "\n",
    "part_two() # 251003917"
   ]
  }
 ],
 "metadata": {
  "kernelspec": {
   "display_name": "base",
   "language": "python",
   "name": "python3"
  },
  "language_info": {
   "codemirror_mode": {
    "name": "ipython",
    "version": 3
   },
   "file_extension": ".py",
   "mimetype": "text/x-python",
   "name": "python",
   "nbconvert_exporter": "python",
   "pygments_lexer": "ipython3",
   "version": "3.11.5"
  }
 },
 "nbformat": 4,
 "nbformat_minor": 2
}

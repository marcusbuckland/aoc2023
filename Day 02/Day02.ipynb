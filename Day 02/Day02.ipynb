{
 "cells": [
  {
   "cell_type": "markdown",
   "metadata": {},
   "source": [
    "## Advent of Code 2023 - Day 02 ##\n",
    "____"
   ]
  },
  {
   "cell_type": "code",
   "execution_count": 1,
   "metadata": {},
   "outputs": [
    {
     "name": "stdout",
     "output_type": "stream",
     "text": [
      "8\n"
     ]
    }
   ],
   "source": [
    "# Example 1\n",
    "configuration = {'red': 12, 'green': 13, 'blue': 14}\n",
    "fh = open(\"example.txt\")\n",
    "contents = fh.read().splitlines()\n",
    "\n",
    "def is_valid(s):\n",
    "    for cubes in s:\n",
    "        n, c = cubes.split()\n",
    "        if int(n) > configuration[c] : return False\n",
    "    return True\n",
    "\n",
    "d = {}\n",
    "\n",
    "for game in contents:\n",
    "    game_num, subsets = game.split(\": \")\n",
    "    game_num = game_num.replace(\"Game \", \"\")\n",
    "\n",
    "    subsets = subsets.split(\"; \")\n",
    "    d[game_num] = subsets\n",
    "\n",
    "tot = 0\n",
    "for game_num, subsets in d.items():\n",
    "    valid = True\n",
    "    for s in subsets:\n",
    "        valid = valid and is_valid(s.split(\", \"))\n",
    "    if valid:\n",
    "        tot += int(game_num)\n",
    "\n",
    "print(tot)"
   ]
  },
  {
   "cell_type": "code",
   "execution_count": 2,
   "metadata": {},
   "outputs": [
    {
     "data": {
      "text/plain": [
       "2085"
      ]
     },
     "execution_count": 2,
     "metadata": {},
     "output_type": "execute_result"
    }
   ],
   "source": [
    "# Part 1\n",
    "\n",
    "def part_1():\n",
    "    fh = open(\"input.txt\")\n",
    "    contents = fh.read().splitlines()\n",
    "    \n",
    "    d = {}\n",
    "    for game in contents:\n",
    "        game_num, subsets = game.split(\": \")\n",
    "        game_num = game_num.replace(\"Game \", \"\")\n",
    "\n",
    "        subsets = subsets.split(\"; \")\n",
    "        d[game_num] = subsets\n",
    "\n",
    "    tot = 0\n",
    "    for game_num, subsets in d.items():\n",
    "        valid = True\n",
    "        for s in subsets:\n",
    "            valid = valid and is_valid(s.split(\", \"))\n",
    "        if valid:\n",
    "            tot += int(game_num)\n",
    "\n",
    "    return tot\n",
    "\n",
    "part_1() # 2085"
   ]
  },
  {
   "cell_type": "code",
   "execution_count": null,
   "metadata": {},
   "outputs": [],
   "source": []
  }
 ],
 "metadata": {
  "kernelspec": {
   "display_name": "marcus",
   "language": "python",
   "name": "python3"
  },
  "language_info": {
   "codemirror_mode": {
    "name": "ipython",
    "version": 3
   },
   "file_extension": ".py",
   "mimetype": "text/x-python",
   "name": "python",
   "nbconvert_exporter": "python",
   "pygments_lexer": "ipython3",
   "version": "3.11.5"
  }
 },
 "nbformat": 4,
 "nbformat_minor": 2
}

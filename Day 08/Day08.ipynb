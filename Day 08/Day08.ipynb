{
 "cells": [
  {
   "cell_type": "markdown",
   "metadata": {},
   "source": [
    "## Advent of Code 2023 - Day 08 ##\n",
    "____"
   ]
  },
  {
   "cell_type": "code",
   "execution_count": 1,
   "metadata": {},
   "outputs": [],
   "source": [
    "import math\n",
    "from itertools import cycle\n",
    "contents = open('in.txt').read().splitlines()\n",
    "instructions = contents[0].replace('L', '0').replace('R', '1')\n",
    "\n",
    "network = {}\n",
    "\n",
    "for line in contents[2:]:\n",
    "    k, v = line.split('=')\n",
    "    k = k.strip()\n",
    "    v = v.strip()\n",
    "    left, right = v.split(\",\")\n",
    "    left = left[1:]\n",
    "    right = right[:-1].strip()\n",
    "    network[k] = (left, right)"
   ]
  },
  {
   "cell_type": "code",
   "execution_count": 2,
   "metadata": {},
   "outputs": [
    {
     "name": "stdout",
     "output_type": "stream",
     "text": [
      "Part One: 21797\n"
     ]
    }
   ],
   "source": [
    "def part_one():\n",
    "    count = 0\n",
    "    current = 'AAA'\n",
    "\n",
    "    for direction in cycle(instructions):\n",
    "        current = network[current][int(direction)]\n",
    "        count += 1\n",
    "        if current == 'ZZZ' : break\n",
    "\n",
    "    print(f\"Part One: {count}\")\n",
    "\n",
    "part_one() # 21797"
   ]
  },
  {
   "cell_type": "code",
   "execution_count": 3,
   "metadata": {},
   "outputs": [
    {
     "name": "stdout",
     "output_type": "stream",
     "text": [
      "Part Two: 23977527174353\n"
     ]
    }
   ],
   "source": [
    "# Part Two\n",
    "def part_two():\n",
    "    current = [x for x in list(network.keys()) if x[2] == 'A']\n",
    "    len_instructions = len(instructions)\n",
    "    counts = [0 for _ in range(len(current))]\n",
    "\n",
    "    for i, loc in enumerate(current):\n",
    "        count = 0\n",
    "        while True:\n",
    "            direction = int(instructions[count % len_instructions])\n",
    "            loc = network[loc][direction]\n",
    "            count += 1\n",
    "            if loc[2] == 'Z' : \n",
    "                counts[i] = count\n",
    "                break\n",
    "\n",
    "    ans = math.lcm(*counts)\n",
    "    print(f\"Part Two: {ans}\")\n",
    "\n",
    "part_two() # 23977527174353"
   ]
  }
 ],
 "metadata": {
  "kernelspec": {
   "display_name": "marcus",
   "language": "python",
   "name": "python3"
  },
  "language_info": {
   "codemirror_mode": {
    "name": "ipython",
    "version": 3
   },
   "file_extension": ".py",
   "mimetype": "text/x-python",
   "name": "python",
   "nbconvert_exporter": "python",
   "pygments_lexer": "ipython3",
   "version": "3.11.5"
  }
 },
 "nbformat": 4,
 "nbformat_minor": 2
}

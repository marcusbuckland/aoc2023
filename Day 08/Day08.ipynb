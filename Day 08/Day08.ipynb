{
 "cells": [
  {
   "cell_type": "markdown",
   "metadata": {},
   "source": [
    "## Advent of Code 2023 - Day 08 ##\n",
    "____"
   ]
  },
  {
   "cell_type": "code",
   "execution_count": 1,
   "metadata": {},
   "outputs": [],
   "source": [
    "contents = open('in.txt').read().splitlines()\n",
    "instructions = contents[0].replace('L', '0').replace('R', '1')\n",
    "\n",
    "network = {}\n",
    "\n",
    "for line in contents[2:]:\n",
    "    k, v = line.split('=')\n",
    "    k = k.strip()\n",
    "    v = v.strip()\n",
    "    left, right = v.split(\",\")\n",
    "    left = left[1:]\n",
    "    right = right[:-1].strip()\n",
    "    network[k] = (left, right)"
   ]
  },
  {
   "cell_type": "code",
   "execution_count": 2,
   "metadata": {},
   "outputs": [
    {
     "name": "stdout",
     "output_type": "stream",
     "text": [
      "Part One: 21797\n"
     ]
    }
   ],
   "source": [
    "count = 0\n",
    "current = 'AAA'\n",
    "len_instructions = len(instructions)\n",
    "\n",
    "while True:\n",
    "    ix = count % len_instructions\n",
    "    direction = int(instructions[ix])\n",
    "    current = network[current][direction]\n",
    "    count += 1\n",
    "    if current == 'ZZZ' : break\n",
    "\n",
    "print(f\"Part One: {count}\") # 21797"
   ]
  }
 ],
 "metadata": {
  "kernelspec": {
   "display_name": "marcus",
   "language": "python",
   "name": "python3"
  },
  "language_info": {
   "codemirror_mode": {
    "name": "ipython",
    "version": 3
   },
   "file_extension": ".py",
   "mimetype": "text/x-python",
   "name": "python",
   "nbconvert_exporter": "python",
   "pygments_lexer": "ipython3",
   "version": "3.11.5"
  }
 },
 "nbformat": 4,
 "nbformat_minor": 2
}

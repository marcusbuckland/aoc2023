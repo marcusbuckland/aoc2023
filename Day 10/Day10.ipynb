{
 "cells": [
  {
   "cell_type": "markdown",
   "metadata": {},
   "source": [
    "## Advent of Code 2023 - Day 10 ##\n",
    "____"
   ]
  },
  {
   "cell_type": "code",
   "execution_count": 1,
   "metadata": {},
   "outputs": [],
   "source": [
    "contents = open('in.txt').read().splitlines()\n",
    "maze = [[y for y in x] for x in contents]\n",
    "\n",
    "n_rows = len(maze)\n",
    "n_cols = len(maze[0])"
   ]
  },
  {
   "cell_type": "code",
   "execution_count": 2,
   "metadata": {},
   "outputs": [],
   "source": [
    "valid_directions = {\n",
    "    \"|\" : [\"NORTH\", \"SOUTH\"],\n",
    "    \"-\" : [\"EAST\", \"WEST\"],\n",
    "    \"L\" : [\"NORTH\", \"EAST\"],\n",
    "    \"J\" : [\"NORTH\", \"WEST\"],\n",
    "    \"7\" : [\"SOUTH\", \"WEST\"],\n",
    "    \"F\" : [\"SOUTH\", \"EAST\"],\n",
    "}\n",
    "\n",
    "move = {\n",
    "    \"NORTH\" : (-1, 0),\n",
    "    \"SOUTH\" : (1,  0),\n",
    "    \"EAST\"  : (0,  1),\n",
    "    \"WEST\"  : (0, -1)\n",
    "}\n",
    "\n",
    "tiles = {\n",
    "    \"NORTH\" : {'|', 'L', 'J'},\n",
    "    \"SOUTH\" : {'|', '7', 'F'},\n",
    "    \"EAST\"  : {'-', 'L', 'F'},\n",
    "    \"WEST\"  : {'-', 'J', '7'},\n",
    "}\n",
    "\n",
    "opposing_directions = {\n",
    "    \"NORTH\" : \"SOUTH\",\n",
    "    \"SOUTH\" : \"NORTH\",\n",
    "    \"EAST\"  : \"WEST\",\n",
    "    \"WEST\"  : \"EAST\"\n",
    "}\n",
    "\n",
    "def find_start(maze):\n",
    "    for i, r in enumerate(maze):\n",
    "        for j, c in enumerate(r):\n",
    "            if c == 'S':\n",
    "                return (i, j)\n",
    "            \n",
    "start_pos = find_start(maze) # Where 'S' is located inside maze\n",
    "            \n",
    "def find_connecting_tiles(maze, start_pos):\n",
    "    connecting_tiles = []\n",
    "    # Check NORTH - must be able to go SOUTH if connected to start_pos.\n",
    "    r, c = start_pos[0] + move[\"NORTH\"][0], start_pos[1] + move[\"NORTH\"][1]\n",
    "    if maze[r][c] in tiles[\"SOUTH\"] :\n",
    "        connecting_tiles.append((r,c))\n",
    "    \n",
    "    # Check SOUTH - must be able to go NORTH if connected to start_pos.\n",
    "    r, c = start_pos[0] + move[\"SOUTH\"][0], start_pos[1] + move[\"SOUTH\"][1]\n",
    "    if maze[r][c] in tiles[\"NORTH\"] :\n",
    "        connecting_tiles.append((r,c))\n",
    "\n",
    "    # Check EAST - must be able to go WEST if connected to start_pos.\n",
    "    r, c = start_pos[0] + move[\"EAST\"][0], start_pos[1] + move[\"EAST\"][1]\n",
    "    if maze[r][c] in tiles[\"WEST\"] :\n",
    "        connecting_tiles.append((r,c))\n",
    "\n",
    "    # Check WEST - must be able to go EAST if connected to start_pos.\n",
    "    r, c = start_pos[0] + move[\"WEST\"][0], start_pos[1] + move[\"WEST\"][1]\n",
    "    if maze[r][c] in tiles[\"EAST\"] :\n",
    "        connecting_tiles.append((r,c))\n",
    "\n",
    "    return connecting_tiles\n",
    "\n",
    "start, end = find_connecting_tiles(maze, start_pos)\n",
    "\n",
    "def get_next_direction(tile, prev_direction):\n",
    "    x = valid_directions[tile]\n",
    "    return x[0] if x[1] == prev_direction else x[1]\n",
    "\n",
    "def get_next_position(pos, direction):\n",
    "    return pos[0] + move[direction][0], pos[1] + move[direction][1]\n"
   ]
  },
  {
   "cell_type": "code",
   "execution_count": 3,
   "metadata": {},
   "outputs": [
    {
     "name": "stdout",
     "output_type": "stream",
     "text": [
      "Part One: 7086\n"
     ]
    }
   ],
   "source": [
    "pos = start\n",
    "direction = {v:k for k,v in move.items()}[start[0] - start_pos[0], start[1] - start_pos[1]]\n",
    "path = []\n",
    "path.append(start_pos)\n",
    "path.append(pos)\n",
    "\n",
    "while pos != end:\n",
    "    r, c = pos\n",
    "    tile = maze[r][c]\n",
    "    direction = get_next_direction(tile, opposing_directions[direction])\n",
    "    pos = get_next_position(pos, direction)\n",
    "    path.append(pos)\n",
    "\n",
    "ans = len(path) // 2\n",
    "print(f\"Part One: {ans}\")"
   ]
  }
 ],
 "metadata": {
  "kernelspec": {
   "display_name": "marcus",
   "language": "python",
   "name": "python3"
  },
  "language_info": {
   "codemirror_mode": {
    "name": "ipython",
    "version": 3
   },
   "file_extension": ".py",
   "mimetype": "text/x-python",
   "name": "python",
   "nbconvert_exporter": "python",
   "pygments_lexer": "ipython3",
   "version": "3.11.5"
  }
 },
 "nbformat": 4,
 "nbformat_minor": 2
}
